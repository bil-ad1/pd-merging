{
  "metadata": {
    "language_info": {
      "codemirror_mode": {
        "name": "python",
        "version": 3
      },
      "file_extension": ".py",
      "mimetype": "text/x-python",
      "name": "python",
      "nbconvert_exporter": "python",
      "pygments_lexer": "ipython3",
      "version": "3.8"
    },
    "kernelspec": {
      "name": "python",
      "display_name": "Pyolite",
      "language": "python"
    }
  },
  "nbformat_minor": 4,
  "nbformat": 4,
  "cells": [
    {
      "cell_type": "code",
      "source": "import pandas as pd",
      "metadata": {
        "trusted": true
      },
      "execution_count": 2,
      "outputs": []
    },
    {
      "cell_type": "code",
      "source": "ds1=  pd.DataFrame   ( { \"names\":['Ali','Amir','Aslam'],\"wights\":[65,67,69] } )\n\nds2 = pd.DataFrame ( { \"names\":['Ali','Atif','Asif'], \"heights\":[5.5,5.7,5.9] } )\n\nds3 = pd.DataFrame   ( { \"names\":['Asif','Amir','Aslam'], \"ages\" : [25,27,29] })",
      "metadata": {
        "trusted": true
      },
      "execution_count": 5,
      "outputs": []
    },
    {
      "cell_type": "code",
      "source": "dt1=pd.merge(ds1,ds2,how='outer')\nprint(dt1)",
      "metadata": {
        "trusted": true
      },
      "execution_count": 6,
      "outputs": [
        {
          "name": "stdout",
          "text": "   names  wights  heights\n0    Ali    65.0      5.5\n1   Amir    67.0      NaN\n2  Aslam    69.0      NaN\n3   Atif     NaN      5.7\n4   Asif     NaN      5.9\n",
          "output_type": "stream"
        }
      ]
    },
    {
      "cell_type": "code",
      "source": "dt2=pd.merge(dt1,ds3,how='outer')\nprint(dt2)",
      "metadata": {
        "trusted": true
      },
      "execution_count": 7,
      "outputs": [
        {
          "name": "stdout",
          "text": "   names  wights  heights  ages\n0    Ali    65.0      5.5   NaN\n1   Amir    67.0      NaN  27.0\n2  Aslam    69.0      NaN  29.0\n3   Atif     NaN      5.7   NaN\n4   Asif     NaN      5.9  25.0\n",
          "output_type": "stream"
        }
      ]
    },
    {
      "cell_type": "code",
      "source": "du1=dt2.dropna()\nprint(du1)",
      "metadata": {
        "trusted": true
      },
      "execution_count": 8,
      "outputs": [
        {
          "name": "stdout",
          "text": "Empty DataFrame\nColumns: [names, wights, heights, ages]\nIndex: []\n",
          "output_type": "stream"
        }
      ]
    },
    {
      "cell_type": "code",
      "source": "du2=dt2.fillna(dt2.mean())\nprint(du2)",
      "metadata": {
        "trusted": true
      },
      "execution_count": 9,
      "outputs": [
        {
          "name": "stderr",
          "text": "<ipython-input-9-2cad8d9d6e01>:1: FutureWarning: Dropping of nuisance columns in DataFrame reductions (with 'numeric_only=None') is deprecated; in a future version this will raise TypeError.  Select only valid columns before calling the reduction.\n  du2=dt2.fillna(dt2.mean())\n",
          "output_type": "stream"
        },
        {
          "name": "stdout",
          "text": "   names  wights  heights  ages\n0    Ali    65.0      5.5  27.0\n1   Amir    67.0      5.7  27.0\n2  Aslam    69.0      5.7  29.0\n3   Atif    67.0      5.7  27.0\n4   Asif    67.0      5.9  25.0\n",
          "output_type": "stream"
        }
      ]
    },
    {
      "cell_type": "code",
      "source": "du2.info()",
      "metadata": {
        "trusted": true
      },
      "execution_count": 10,
      "outputs": [
        {
          "name": "stdout",
          "text": "<class 'pandas.core.frame.DataFrame'>\nInt64Index: 5 entries, 0 to 4\nData columns (total 4 columns):\n #   Column   Non-Null Count  Dtype  \n---  ------   --------------  -----  \n 0   names    5 non-null      object \n 1   wights   5 non-null      float64\n 2   heights  5 non-null      float64\n 3   ages     5 non-null      float64\ndtypes: float64(3), object(1)\nmemory usage: 180.0+ bytes\n",
          "output_type": "stream"
        }
      ]
    },
    {
      "cell_type": "code",
      "source": "du2.describe()",
      "metadata": {
        "trusted": true
      },
      "execution_count": 11,
      "outputs": [
        {
          "execution_count": 11,
          "output_type": "execute_result",
          "data": {
            "text/plain": "          wights   heights       ages\ncount   5.000000  5.000000   5.000000\nmean   67.000000  5.700000  27.000000\nstd     1.414214  0.141421   1.414214\nmin    65.000000  5.500000  25.000000\n25%    67.000000  5.700000  27.000000\n50%    67.000000  5.700000  27.000000\n75%    67.000000  5.700000  27.000000\nmax    69.000000  5.900000  29.000000",
            "text/html": "<div>\n<style scoped>\n    .dataframe tbody tr th:only-of-type {\n        vertical-align: middle;\n    }\n\n    .dataframe tbody tr th {\n        vertical-align: top;\n    }\n\n    .dataframe thead th {\n        text-align: right;\n    }\n</style>\n<table border=\"1\" class=\"dataframe\">\n  <thead>\n    <tr style=\"text-align: right;\">\n      <th></th>\n      <th>wights</th>\n      <th>heights</th>\n      <th>ages</th>\n    </tr>\n  </thead>\n  <tbody>\n    <tr>\n      <th>count</th>\n      <td>5.000000</td>\n      <td>5.000000</td>\n      <td>5.000000</td>\n    </tr>\n    <tr>\n      <th>mean</th>\n      <td>67.000000</td>\n      <td>5.700000</td>\n      <td>27.000000</td>\n    </tr>\n    <tr>\n      <th>std</th>\n      <td>1.414214</td>\n      <td>0.141421</td>\n      <td>1.414214</td>\n    </tr>\n    <tr>\n      <th>min</th>\n      <td>65.000000</td>\n      <td>5.500000</td>\n      <td>25.000000</td>\n    </tr>\n    <tr>\n      <th>25%</th>\n      <td>67.000000</td>\n      <td>5.700000</td>\n      <td>27.000000</td>\n    </tr>\n    <tr>\n      <th>50%</th>\n      <td>67.000000</td>\n      <td>5.700000</td>\n      <td>27.000000</td>\n    </tr>\n    <tr>\n      <th>75%</th>\n      <td>67.000000</td>\n      <td>5.700000</td>\n      <td>27.000000</td>\n    </tr>\n    <tr>\n      <th>max</th>\n      <td>69.000000</td>\n      <td>5.900000</td>\n      <td>29.000000</td>\n    </tr>\n  </tbody>\n</table>\n</div>"
          },
          "metadata": {}
        }
      ]
    },
    {
      "cell_type": "code",
      "source": "",
      "metadata": {},
      "execution_count": null,
      "outputs": []
    }
  ]
}